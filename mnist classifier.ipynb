{
 "cells": [
  {
   "cell_type": "code",
   "execution_count": 24,
   "id": "ba9ced19",
   "metadata": {},
   "outputs": [],
   "source": [
    "import numpy as np \n",
    "import pandas as pd \n",
    "import matplotlib.pyplot as plt\n",
    "%matplotlib inline"
   ]
  },
  {
   "cell_type": "code",
   "execution_count": 31,
   "id": "b059259b",
   "metadata": {},
   "outputs": [],
   "source": [
    "\n",
    "train_data = pd.read_csv('train.csv')\n",
    "test_data = pd.read_csv(\"test.csv\")"
   ]
  },
  {
   "cell_type": "code",
   "execution_count": 32,
   "id": "5f2131c1",
   "metadata": {},
   "outputs": [],
   "source": [
    "y_train = train_data['label'].values\n",
    "X_train = train_data.drop(columns=['label']).values/255\n",
    "X_test = test_data.values/255"
   ]
  },
  {
   "cell_type": "code",
   "execution_count": 33,
   "id": "d5e23e0b",
   "metadata": {},
   "outputs": [
    {
     "data": {
      "image/png": "[encoded data removed]",
      "text/plain": [
       "<Figure size 1200x500 with 10 Axes>"
      ]
     },
     "metadata": {},
     "output_type": "display_data"
    }
   ],
   "source": [
    "fig, axes = plt.subplots(2,5, figsize=(12,5))\n",
    "axes = axes.flatten()\n",
    "idx = np.random.randint(0,42000,size=10)\n",
    "for i in range(10):\n",
    "    axes[i].imshow(X_train[idx[i],:].reshape(28,28), cmap='gray')\n",
    "    axes[i].axis('off') \n",
    "    axes[i].set_title(str(int(y_train[idx[i]])), color= 'black', fontsize=25)\n",
    "plt.show()"
   ]
  },
  {
   "cell_type": "code",
   "execution_count": 34,
   "id": "9dd8d599",
   "metadata": {},
   "outputs": [],
   "source": [
    "def relu(x):\n",
    "    x[x<0]=0\n",
    "    return x"
   ]
  },
  {
   "cell_type": "code",
   "execution_count": 35,
   "id": "c58c7182",
   "metadata": {},
   "outputs": [],
   "source": [
    "def h(X,W,b):\n",
    "\n",
    "    a1 = X\n",
    "\n",
    "    z1 = np.matmul(X, W[0]) + b[0]\n",
    "    \n",
    "    a2 = relu(z1)\n",
    "\n",
    "    z2 = np.matmul(a2, W[1])\n",
    "    s = np.exp(z2)\n",
    "    total = np.sum(s, axis=1).reshape(-1,1)\n",
    "    sigma = s/total\n",
    "\n",
    "    return sigma"
   ]
  },
  {
   "cell_type": "code",
   "execution_count": 36,
   "id": "e91f0b22",
   "metadata": {},
   "outputs": [],
   "source": [
    "def softmax(X_in,weights):\n",
    "    \n",
    "    s = np.exp(np.matmul(X_in,weights))\n",
    "    total = np.sum(s, axis=1).reshape(-1,1)\n",
    "    return s / total"
   ]
  },
  {
   "cell_type": "code",
   "execution_count": 37,
   "id": "b0189cd4",
   "metadata": {},
   "outputs": [],
   "source": [
    "def loss(y_pred,y_true):\n",
    "\n",
    "    global K \n",
    "    K = 10\n",
    "    N = len(y_true)\n",
    "\n",
    "    y_true_one_hot_vec = (y_true[:,np.newaxis] == np.arange(K))\n",
    "    loss_sample = (np.log(y_pred) * y_true_one_hot_vec).sum(axis=1)\n",
    "\n",
    "    return -np.mean(loss_sample)"
   ]
  },
  {
   "cell_type": "code",
   "execution_count": 38,
   "id": "53710928",
   "metadata": {},
   "outputs": [],
   "source": [
    "def backprop(W,b,X,y,alpha=1e-4):\n",
    "\n",
    "    K = 10\n",
    "    N = X.shape[0]\n",
    "    \n",
    "    a1 = X\n",
    "\n",
    "    z1 = np.matmul(X, W[0]) + b[0]\n",
    "\n",
    "    a2 = relu(z1)\n",
    "\n",
    "    z2 = np.matmul(a2, W[1])\n",
    "    s = np.exp(z2)\n",
    "    total = np.sum(s, axis=1).reshape(-1,1)\n",
    "    sigma = s/total\n",
    "    \n",
    "    y_one_hot_vec = (y[:,np.newaxis] == np.arange(K))\n",
    "    delta2 = (sigma - y_one_hot_vec)\n",
    "    grad_W1 = np.matmul(a2.T, delta2)\n",
    "    \n",
    "    delta1 = np.matmul(delta2, W[1].T)*(z1>0)\n",
    "    grad_W0 = np.matmul(X.T, delta1)\n",
    "    \n",
    "    dW = [grad_W0/N + alpha*W[0], grad_W1/N + alpha*W[1]]\n",
    "    db = [np.mean(delta1, axis=0)]\n",
    "\n",
    "    return dW, db"
   ]
  },
  {
   "cell_type": "code",
   "execution_count": 39,
   "id": "a77d03a5",
   "metadata": {},
   "outputs": [],
   "source": [
    "eta = 5e-1\n",
    "alpha = 1e-6 \n",
    "gamma = 0.99 \n",
    "eps = 1e-3 \n",
    "num_iter = 2000 \n",
    "n_H = 256 \n",
    "n = X_train.shape[1]\n",
    "K = 10"
   ]
  },
  {
   "cell_type": "code",
   "execution_count": 40,
   "id": "0dfce2d5",
   "metadata": {},
   "outputs": [],
   "source": [
    "\n",
    "np.random.seed(1127)\n",
    "W = [1e-1*np.random.randn(n, n_H), 1e-1*np.random.randn(n_H, K)]\n",
    "b = [np.random.randn(n_H)]"
   ]
  },
  {
   "cell_type": "code",
   "execution_count": 41,
   "id": "d34b3b23",
   "metadata": {},
   "outputs": [
    {
     "name": "stdout",
     "output_type": "stream",
     "text": [
      "Cross-entropy loss after 1 iterations is 7.3264114\n",
      "Training accuracy after 1 iterations is 37.3524%\n",
      "gW0=1.0715 gW1=1.2174 gb0=0.9919\n",
      "etaW0=0.4828 etaW1=0.4530 etab0=0.5018\n",
      "|dW0|=2.85527 |dW1|=4.76880 |db0|=0.43260 \n",
      "\n",
      "Cross-entropy loss after 501 iterations is 0.077221224\n",
      "Training accuracy after 501 iterations is 97.8333%\n",
      "gW0=0.1288 gW1=0.0487 gb0=0.0095\n",
      "etaW0=1.3878 etaW1=2.2437 etab0=4.8738\n",
      "|dW0|=0.01327 |dW1|=0.00698 |db0|=0.00108 \n",
      "\n",
      "Cross-entropy loss after 1001 iterations is 0.053528822\n",
      "Training accuracy after 1001 iterations is 98.5405%\n",
      "gW0=0.1640 gW1=0.0330 gb0=0.0101\n",
      "etaW0=1.2308 etaW1=2.7135 etab0=4.7465\n",
      "|dW0|=0.01255 |dW1|=0.00551 |db0|=0.00111 \n",
      "\n",
      "Cross-entropy loss after 1501 iterations is 0.029436113\n",
      "Training accuracy after 1501 iterations is 99.3214%\n",
      "gW0=0.0921 gW1=0.0295 gb0=0.0088\n",
      "etaW0=1.6389 etaW1=2.8645 etab0=5.0563\n",
      "|dW0|=0.00740 |dW1|=0.00349 |db0|=0.00058 \n",
      "\n",
      "Final cross-entropy loss is 0.031026679\n",
      "Final training accuracy is 99.2357%\n",
      "Wall time: 13min 27s\n"
     ]
    }
   ],
   "source": [
    "%%time\n",
    "gW0 = gW1 = gb0 = 1\n",
    "\n",
    "for i in range(num_iter):\n",
    "    dW, db = backprop(W,b,X_train,y_train,alpha)\n",
    "    \n",
    "    gW0 = gamma*gW0 + (1-gamma)*np.sum(dW[0]**2)\n",
    "    etaW0 = eta/np.sqrt(gW0 + eps)\n",
    "    W[0] -= etaW0 * dW[0]\n",
    "    \n",
    "    gW1 = gamma*gW1 + (1-gamma)*np.sum(dW[1]**2)\n",
    "    etaW1 = eta/np.sqrt(gW1 + eps)\n",
    "    W[1] -= etaW1 * dW[1]\n",
    "    \n",
    "    gb0 = gamma*gb0 + (1-gamma)*np.sum(db[0]**2)\n",
    "    etab0 = eta/np.sqrt(gb0 + eps)\n",
    "    b[0] -= etab0 * db[0]\n",
    "    \n",
    "    if i % 500 == 0:\n",
    "        y_pred = h(X_train,W,b)\n",
    "        print(\"Cross-entropy loss after\", i+1, \"iterations is {:.8}\".format(\n",
    "              loss(y_pred,y_train)))\n",
    "        print(\"Training accuracy after\", i+1, \"iterations is {:.4%}\".format( \n",
    "              np.mean(np.argmax(y_pred, axis=1)== y_train)))\n",
    "        \n",
    "        print(\"gW0={:.4f} gW1={:.4f} gb0={:.4f}\\netaW0={:.4f} etaW1={:.4f} etab0={:.4f}\"\n",
    "              .format(gW0, gW1, gb0, etaW0, etaW1, etab0))\n",
    "        \n",
    "        print(\"|dW0|={:.5f} |dW1|={:.5f} |db0|={:.5f}\"\n",
    "             .format(np.linalg.norm(dW[0]), np.linalg.norm(dW[1]), np.linalg.norm(db[0])), \"\\n\")\n",
    "        \n",
    "        gW0 = gW1 = gb0 = 1\n",
    "\n",
    "y_pred_final = h(X_train,W,b)\n",
    "print(\"Final cross-entropy loss is {:.8}\".format(loss(y_pred_final,y_train)))\n",
    "print(\"Final training accuracy is {:.4%}\".format(np.mean(np.argmax(y_pred_final, axis=1)== y_train)))"
   ]
  },
  {
   "cell_type": "code",
   "execution_count": 42,
   "id": "86682129",
   "metadata": {},
   "outputs": [],
   "source": [
    "\n",
    "y_pred_test = np.argmax(h(X_test,W,b), axis=1)"
   ]
  },
  {
   "cell_type": "code",
   "execution_count": 43,
   "id": "0a0aeb69",
   "metadata": {},
   "outputs": [],
   "source": [
    "submission = pd.DataFrame({'ImageId': range(1,len(X_test)+1) ,'Label': y_pred_test })\n",
    "submission.to_csv(\"simplemnist_result.csv\",index=False)"
   ]
  },
  {
   "cell_type": "code",
   "execution_count": null,
   "id": "11954ea6",
   "metadata": {},
   "outputs": [],
   "source": []
  }
 ],
 "metadata": {
  "kernelspec": {
   "display_name": "Python 3 (ipykernel)",
   "language": "python",
   "name": "python3"
  },
  "language_info": {
   "codemirror_mode": {
    "name": "ipython",
    "version": 3
   },
   "file_extension": ".py",
   "mimetype": "text/x-python",
   "name": "python",
   "nbconvert_exporter": "python",
   "pygments_lexer": "ipython3",
   "version": "3.9.13"
  }
 },
 "nbformat": 4,
 "nbformat_minor": 5
}
